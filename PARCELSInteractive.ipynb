{
 "cells": [
  {
   "cell_type": "markdown",
   "metadata": {},
   "source": [
    "# PARCELS Tutorial"
   ]
  },
  {
   "cell_type": "markdown",
   "metadata": {},
   "source": [
    "Welcome to a quick tutorial on PARCELS. This is meant to get you started with the code, and give you a flavour of some of the key features of PARCELS."
   ]
  },
  {
   "cell_type": "markdown",
   "metadata": {},
   "source": [
    "In this tutorial, we will first cover how to run a set of particles [from a very simple idealised grid](#idealised). Then, we will show how to [add custom behaviour](#customkernel) to the particles. And finally, we will show how to [run particles in a set of NetCDF files from external data](#netcdf)"
   ]
  },
  {
   "cell_type": "markdown",
   "metadata": {},
   "source": [
    "Let's start with importing the relevant modules. The key ones are all in the `parcels` directory. First load in the key functions (don't worry about the `\"Matplotlib is building the font cache using fc-list. This may take a moment\"` warning that might occur in `matplotlib`)"
   ]
  },
  {
   "cell_type": "code",
   "execution_count": null,
   "metadata": {
    "collapsed": false
   },
   "outputs": [],
   "source": [
    "%matplotlib inline\n",
    "from parcels import *\n",
    "import numpy as np\n",
    "import math\n",
    "from datetime import timedelta"
   ]
  },
  {
   "cell_type": "markdown",
   "metadata": {},
   "source": [
    "## Running particles in an idealised grid <a name=\"idealised\"></a>"
   ]
  },
  {
   "cell_type": "markdown",
   "metadata": {},
   "source": [
    "The first step to running particles with PARCELS is to define a `grid` object. In this first case, we use a simple flow of two idealised moving eddies. That field is saved in NetCDF format in the directory `examples/MovingEddies_data`. Since we know that the files are in what's called `NEMO` format, we can call these files using the function `Grid.from_nemo`."
   ]
  },
  {
   "cell_type": "code",
   "execution_count": null,
   "metadata": {
    "collapsed": true
   },
   "outputs": [],
   "source": [
    "def moving_eddies_grid(xdim=200, ydim=350):\n",
    "    \"\"\"Generate a grid encapsulating the flow field consisting of two\n",
    "    moving eddies, one moving westward and the other moving northwestward.\n",
    "\n",
    "    Note that this is not a proper geophysical flow. Rather, a Gaussian eddy is moved\n",
    "    artificially with uniform velocities. Velocities are calculated from geostrophy.\n",
    "    \"\"\"\n",
    "    # Set NEMO grid variables\n",
    "    depth = np.zeros(1, dtype=np.float32)\n",
    "    time = np.arange(0., 25. * 86400., 86400., dtype=np.float64)\n",
    "\n",
    "    # Coordinates of the test grid (on A-grid in deg)\n",
    "    lon = np.linspace(0, 4, xdim, dtype=np.float32)\n",
    "    lat = np.linspace(45, 52, ydim, dtype=np.float32)\n",
    "\n",
    "    # Grid spacing in m\n",
    "    def cosd(x):\n",
    "        return math.cos(math.radians(float(x)))\n",
    "    dx = (lon[1] - lon[0]) * 1852 * 60 * cosd(lat.mean())\n",
    "    dy = (lat[1] - lat[0]) * 1852 * 60\n",
    "\n",
    "    # Define arrays U (zonal), V (meridional), W (vertical) and P (sea\n",
    "    # surface height) all on A-grid\n",
    "    U = np.zeros((lon.size, lat.size, time.size), dtype=np.float32)\n",
    "    V = np.zeros((lon.size, lat.size, time.size), dtype=np.float32)\n",
    "    P = np.zeros((lon.size, lat.size, time.size), dtype=np.float32)\n",
    "\n",
    "    # Some constants\n",
    "    corio_0 = 1.e-4  # Coriolis parameter\n",
    "    h0 = 1  # Max eddy height\n",
    "    sig = 0.5  # Eddy e-folding decay scale (in degrees)\n",
    "    g = 10  # Gravitational constant\n",
    "    eddyspeed = 0.1  # Translational speed in m/s\n",
    "    dX = eddyspeed * 86400 / dx  # Grid cell movement of eddy max each day\n",
    "    dY = eddyspeed * 86400 / dy  # Grid cell movement of eddy max each day\n",
    "\n",
    "    [x, y] = np.mgrid[:lon.size, :lat.size]\n",
    "    for t in range(time.size):\n",
    "        hymax_1 = lat.size / 7.\n",
    "        hxmax_1 = .75 * lon.size - dX * t\n",
    "        hymax_2 = 3. * lat.size / 7. + dY * t\n",
    "        hxmax_2 = .75 * lon.size - dX * t\n",
    "\n",
    "        P[:, :, t] = h0 * np.exp(-(x-hxmax_1)**2/(sig*lon.size/4.)**2-(y-hymax_1)**2/(sig*lat.size/7.)**2)\n",
    "        P[:, :, t] += h0 * np.exp(-(x-hxmax_2)**2/(sig*lon.size/4.)**2-(y-hymax_2)**2/(sig*lat.size/7.)**2)\n",
    "\n",
    "        V[:-1, :, t] = -np.diff(P[:, :, t], axis=0) / dx / corio_0 * g\n",
    "        V[-1, :, t] = V[-2, :, t]  # Fill in the last column\n",
    "\n",
    "        U[:, :-1, t] = np.diff(P[:, :, t], axis=1) / dy / corio_0 * g\n",
    "        U[:, -1, t] = U[:, -2, t]  # Fill in the last row\n",
    "\n",
    "    return Grid.from_data(U, lon, lat, V, lon, lat, depth, time, field_data={'P': P})"
   ]
  },
  {
   "cell_type": "code",
   "execution_count": null,
   "metadata": {
    "collapsed": true
   },
   "outputs": [],
   "source": [
    "grid = moving_eddies_grid()"
   ]
  },
  {
   "cell_type": "markdown",
   "metadata": {},
   "source": [
    "The next step is to define a `ParticleSet`, that lives on this grid. In this case, we start 2 particles at (3.3E, 46N) and (3.3E, 47.8N). Note that we use `JITParticle` as `pclass`, because we will be executing the advection in JIT (Just-In-Time) mode. The alternative is to run in `scipy` mode, in which case `pclass` is simply `Particle`"
   ]
  },
  {
   "cell_type": "code",
   "execution_count": null,
   "metadata": {
    "collapsed": false
   },
   "outputs": [],
   "source": [
    "pset = grid.ParticleSet(size=2,             # the number of particles\n",
    "                        pclass=JITParticle, # the type of particles (JITParticle or Particle)\n",
    "                        lon=[ 3.3,  3.3],   # a vector of release longitudes \n",
    "                        lat=[46.0, 47.8])   # a vector of release latitudes"
   ]
  },
  {
   "cell_type": "markdown",
   "metadata": {},
   "source": [
    "Print the `ParticleSet` to see where they start"
   ]
  },
  {
   "cell_type": "code",
   "execution_count": null,
   "metadata": {
    "collapsed": false
   },
   "outputs": [],
   "source": [
    "print pset"
   ]
  },
  {
   "cell_type": "markdown",
   "metadata": {},
   "source": [
    "This output shows for each particle the (longitude, latitude, depth), and then in square brackets the grid indices of the longitude and latitude"
   ]
  },
  {
   "cell_type": "markdown",
   "metadata": {},
   "source": [
    "The final step is to run (or 'execute') the `ParticelSet`. We run the particles using the `AdvectionRK4` kernel, which is a 4th order Runge-Kutte implementation that comes with PARCELS. We run the particles for 6 days (using the `timedelta` function from `datetime`), at an RK4 timestep of 5 minutes. We store the trajectory information at an interval of 1 hour in a file called `EddyParticles.nc`."
   ]
  },
  {
   "cell_type": "code",
   "execution_count": null,
   "metadata": {
    "collapsed": false
   },
   "outputs": [],
   "source": [
    "pset.execute(AdvectionRK4,                # the kernel (which defines how particles move)\n",
    "             runtime=timedelta(days=6),   # the total length of the run\n",
    "             dt=timedelta(minutes=5),     # the timestep of the kernel\n",
    "             interval=timedelta(hours=1), # the interval at which output is stored\n",
    "             output_file=pset.ParticleFile(name=\"EddyParticles\")) # the name of the output file"
   ]
  },
  {
   "cell_type": "markdown",
   "metadata": {},
   "source": [
    "The code should have run, which can be confirmed by printing the `ParticleSet` again"
   ]
  },
  {
   "cell_type": "code",
   "execution_count": null,
   "metadata": {
    "collapsed": false
   },
   "outputs": [],
   "source": [
    "print pset"
   ]
  },
  {
   "cell_type": "markdown",
   "metadata": {},
   "source": [
    "Or by quickly plotting the output file `EddyParticles.nc`."
   ]
  },
  {
   "cell_type": "code",
   "execution_count": null,
   "metadata": {
    "collapsed": false
   },
   "outputs": [],
   "source": [
    "run scripts/plotParticles.py -p EddyParticles.nc"
   ]
  },
  {
   "cell_type": "markdown",
   "metadata": {},
   "source": [
    "Now one of the neat features of PARCELS is that the particles can be plotted as a movie during execution. To rerun the particles while plotting them on top of the zonal velocity field (`grid.U`), first reinitialise the `ParticleSet` and then re-execute. However, now rather than saving the output to a file, display a movie using the `show_movie` keyword, in this case with the zonal velocity `grid.U` as background"
   ]
  },
  {
   "cell_type": "code",
   "execution_count": null,
   "metadata": {
    "collapsed": false
   },
   "outputs": [],
   "source": [
    "## THIS DOES NOT WORK YET IN THIS IPYTHON NOTEBOOK, BECAUSE OF THE INLINE PLOTTING. \n",
    "## IT WILL WORK ON MOST MACHINES, THOUGH\n",
    "# pset = grid.ParticleSet(size=2, pclass=JITParticle, lon=[3.3, 3.3], lat=[46.0, 47.8])\n",
    "# pset.execute(AdvectionRK4, \n",
    "#              runtime=timedelta(days=6), \n",
    "#              dt=timedelta(minutes=5), \n",
    "#              interval=timedelta(hours=1),\n",
    "#              show_movie=grid.U)"
   ]
  },
  {
   "cell_type": "markdown",
   "metadata": {},
   "source": [
    "## Adding a custom behaviour kernel <a name=\"customkernel\"></a>"
   ]
  },
  {
   "cell_type": "markdown",
   "metadata": {},
   "source": [
    "A key feature of PARCELS is the ability to quickly create very simple kernels, and add them to the execution. Kernels in this case our little snippets of code that alter the trajectories of the particles. \n",
    "In this example, we'll create a simple kernel where particles obtain an extra 5 m/s westward velocity after 1 day. Of course, this is not very realistic scenario, but it nicely illustrates the power of custom kernels."
   ]
  },
  {
   "cell_type": "code",
   "execution_count": null,
   "metadata": {
    "collapsed": true
   },
   "outputs": [],
   "source": [
    "def WestVel(particle, grid, time, dt):\n",
    "    if time > 86400:\n",
    "        uvel = -2.\n",
    "        particle.lon += uvel * dt / 1852 / 60"
   ]
  },
  {
   "cell_type": "markdown",
   "metadata": {},
   "source": [
    "Now reset the `ParticleSet` again, and re-execute. Note that we have now changed `kernel` to be `AdvectionRK4 + k_WestVel`, where `k_WestVel` is the `WestVel` function as defined above cast into a `Kernel` object (via the `pset.Kernel` call). Note also that we run in `scipy` mode now (we have changed the `pclass` in the `ParticleSet` to `Particle`); in general it is recommended to run in `scipy` mode when debugging code."
   ]
  },
  {
   "cell_type": "code",
   "execution_count": null,
   "metadata": {
    "collapsed": false
   },
   "outputs": [],
   "source": [
    "pset = grid.ParticleSet(size=2, pclass=Particle, lon=[3.3, 3.3], lat=[46.0, 47.8])\n",
    "\n",
    "k_WestVel = pset.Kernel(WestVel)       # casting the WestVel function to a kernel object\n",
    "\n",
    "pset.execute(AdvectionRK4 + k_WestVel, # simply add kernels using the + operator\n",
    "             runtime=timedelta(days=3), \n",
    "             dt=timedelta(minutes=5), \n",
    "             interval=timedelta(hours=1),\n",
    "             output_file=pset.ParticleFile(name=\"EddyParticles_WestVel\"))"
   ]
  },
  {
   "cell_type": "markdown",
   "metadata": {},
   "source": [
    "And now plot this new particle field"
   ]
  },
  {
   "cell_type": "code",
   "execution_count": null,
   "metadata": {
    "collapsed": false
   },
   "outputs": [],
   "source": [
    "run scripts/plotParticles.py -p EddyParticles_WestVel.nc"
   ]
  }
 ],
 "metadata": {
  "kernelspec": {
   "display_name": "Python 2",
   "language": "python",
   "name": "python2"
  },
  "language_info": {
   "codemirror_mode": {
    "name": "ipython",
    "version": 2
   },
   "file_extension": ".py",
   "mimetype": "text/x-python",
   "name": "python",
   "nbconvert_exporter": "python",
   "pygments_lexer": "ipython2",
   "version": "2.7.11"
  }
 },
 "nbformat": 4,
 "nbformat_minor": 0
}
